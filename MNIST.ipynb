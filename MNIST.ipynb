{
 "cells": [
  {
   "cell_type": "code",
   "execution_count": 10,
   "metadata": {
    "collapsed": true
   },
   "outputs": [],
   "source": [
    "#import necessary packages\n",
    "\n",
    "import pandas as pd\n",
    "import numpy as np\n",
    "import matplotlib.pyplot as plt\n",
    "%matplotlib inline\n"
   ]
  },
  {
   "cell_type": "code",
   "execution_count": 5,
   "metadata": {},
   "outputs": [
    {
     "name": "stderr",
     "output_type": "stream",
     "text": [
      "Using TensorFlow backend.\n"
     ]
    },
    {
     "name": "stdout",
     "output_type": "stream",
     "text": [
      "Downloading data from https://s3.amazonaws.com/img-datasets/mnist.npz\n",
      "11485184/11490434 [============================>.] - ETA: 0s"
     ]
    }
   ],
   "source": [
    "#load data\n",
    "from keras.datasets import mnist\n",
    "\n",
    "(X_train, y_train), (X_test, y_test) = mnist.load_data()\n"
   ]
  },
  {
   "cell_type": "code",
   "execution_count": 12,
   "metadata": {},
   "outputs": [
    {
     "name": "stdout",
     "output_type": "stream",
     "text": [
      "5\n"
     ]
    },
    {
     "data": {
      "image/png": "[encoded data removed]",
      "text/plain": [
       "<matplotlib.figure.Figure at 0x2a4618aeef0>"
      ]
     },
     "metadata": {},
     "output_type": "display_data"
    }
   ],
   "source": [
    "plt.imshow(X_train[0])\n",
    "print(y_train[0])"
   ]
  },
  {
   "cell_type": "code",
   "execution_count": 13,
   "metadata": {},
   "outputs": [
    {
     "name": "stdout",
     "output_type": "stream",
     "text": [
      "train features: (60000, 28, 28); train labels: (60000,)\n",
      "test features: (10000, 28, 28); test labels: (10000,)\n"
     ]
    }
   ],
   "source": [
    "print(\"train features: {}; train labels: {}\".format(X_train.shape, y_train.shape))\n",
    "print(\"test features: {}; test labels: {}\".format(X_test.shape, y_test.shape))"
   ]
  },
  {
   "cell_type": "code",
   "execution_count": 25,
   "metadata": {
    "collapsed": true
   },
   "outputs": [],
   "source": [
    "#reshape data\n",
    "from keras.utils import to_categorical\n",
    "\n",
    "X_train = X_train.reshape(60000, 28, 28, 1)\n",
    "X_test = X_test.reshape(10000, 28, 28, 1)\n",
    "\n",
    "y_train = to_categorical(y_train, num_classes=10)\n",
    "y_test_mat = to_categorical(y_test, num_classes=10)"
   ]
  },
  {
   "cell_type": "code",
   "execution_count": 26,
   "metadata": {},
   "outputs": [],
   "source": [
    "# create model\n",
    "\n",
    "from keras.layers import Conv2D, MaxPool2D, Dense, Activation, Flatten\n",
    "from keras.models import Sequential\n",
    "\n",
    "model = Sequential()\n",
    "model.add(Conv2D(10, kernel_size=3, input_shape=(28, 28, 1)))\n",
    "model.add(MaxPool2D(2))\n",
    "model.add(Flatten())\n",
    "model.add(Dense(10))\n",
    "model.add(Activation('softmax'))\n",
    "model.compile(optimizer='rmsprop', loss='categorical_crossentropy', metrics=['accuracy'])"
   ]
  },
  {
   "cell_type": "code",
   "execution_count": 36,
   "metadata": {},
   "outputs": [
    {
     "name": "stdout",
     "output_type": "stream",
     "text": [
      "Epoch 1/30\n",
      "60000/60000 [==============================] - 2s - loss: 1.7892 - acc: 0.8789     \n",
      "Epoch 2/30\n",
      " 5000/60000 [=>............................] - ETA: 2s - loss: 0.5378 - acc: 0.9526"
     ]
    },
    {
     "name": "stderr",
     "output_type": "stream",
     "text": [
      "C:\\ProgramData\\Anaconda3\\lib\\site-packages\\keras\\callbacks.py:496: RuntimeWarning: Early stopping conditioned on metric `val_loss` which is not available. Available metrics are: loss,acc\n",
      "  (self.monitor, ','.join(list(logs.keys()))), RuntimeWarning\n"
     ]
    },
    {
     "name": "stdout",
     "output_type": "stream",
     "text": [
      "60000/60000 [==============================] - 2s - loss: 0.4643 - acc: 0.9594     \n",
      "Epoch 3/30\n",
      "60000/60000 [==============================] - 2s - loss: 0.3835 - acc: 0.9653     \n",
      "Epoch 4/30\n",
      "60000/60000 [==============================] - 2s - loss: 0.3307 - acc: 0.9698     \n",
      "Epoch 5/30\n",
      "60000/60000 [==============================] - 2s - loss: 0.3032 - acc: 0.9720     \n",
      "Epoch 6/30\n",
      "60000/60000 [==============================] - 2s - loss: 0.2883 - acc: 0.9731     \n",
      "Epoch 7/30\n",
      "60000/60000 [==============================] - 2s - loss: 0.2611 - acc: 0.9755     \n",
      "Epoch 8/30\n",
      "60000/60000 [==============================] - 2s - loss: 0.2421 - acc: 0.9770     \n",
      "Epoch 9/30\n",
      "60000/60000 [==============================] - 2s - loss: 0.2345 - acc: 0.9777     \n",
      "Epoch 10/30\n",
      "60000/60000 [==============================] - 2s - loss: 0.2120 - acc: 0.9795     \n",
      "Epoch 11/30\n",
      "60000/60000 [==============================] - 2s - loss: 0.2108 - acc: 0.9797     \n",
      "Epoch 12/30\n",
      "60000/60000 [==============================] - 2s - loss: 0.1924 - acc: 0.9811     \n",
      "Epoch 13/30\n",
      "60000/60000 [==============================] - 2s - loss: 0.1911 - acc: 0.9812     \n",
      "Epoch 14/30\n",
      "60000/60000 [==============================] - 2s - loss: 0.1792 - acc: 0.9813     \n",
      "Epoch 15/30\n",
      "60000/60000 [==============================] - 2s - loss: 0.1632 - acc: 0.9832     \n",
      "Epoch 16/30\n",
      "60000/60000 [==============================] - 2s - loss: 0.1622 - acc: 0.9836     \n",
      "Epoch 17/30\n",
      "60000/60000 [==============================] - 2s - loss: 0.1535 - acc: 0.9841     \n",
      "Epoch 18/30\n",
      "60000/60000 [==============================] - 2s - loss: 0.1502 - acc: 0.9853     \n",
      "Epoch 19/30\n",
      "60000/60000 [==============================] - 2s - loss: 0.1453 - acc: 0.9850     \n",
      "Epoch 20/30\n",
      "60000/60000 [==============================] - 2s - loss: 0.1372 - acc: 0.9861     \n",
      "Epoch 21/30\n",
      "60000/60000 [==============================] - 2s - loss: 0.1343 - acc: 0.9864     \n",
      "Epoch 22/30\n",
      "60000/60000 [==============================] - 2s - loss: 0.1321 - acc: 0.9865     \n",
      "Epoch 23/30\n",
      "60000/60000 [==============================] - 2s - loss: 0.1285 - acc: 0.9868     \n",
      "Epoch 24/30\n",
      "60000/60000 [==============================] - 2s - loss: 0.1205 - acc: 0.9876     \n",
      "Epoch 25/30\n",
      "60000/60000 [==============================] - 2s - loss: 0.1215 - acc: 0.9877     \n",
      "Epoch 26/30\n",
      "60000/60000 [==============================] - 2s - loss: 0.1203 - acc: 0.9876     \n",
      "Epoch 27/30\n",
      "60000/60000 [==============================] - 2s - loss: 0.1162 - acc: 0.9881     \n",
      "Epoch 28/30\n",
      "60000/60000 [==============================] - 2s - loss: 0.1120 - acc: 0.9887     \n",
      "Epoch 29/30\n",
      "60000/60000 [==============================] - 2s - loss: 0.1075 - acc: 0.9888     \n",
      "Epoch 30/30\n",
      "60000/60000 [==============================] - 2s - loss: 0.1067 - acc: 0.9893     \n"
     ]
    },
    {
     "data": {
      "text/plain": [
       "<keras.callbacks.History at 0x2a466520860>"
      ]
     },
     "execution_count": 36,
     "metadata": {},
     "output_type": "execute_result"
    }
   ],
   "source": [
    "#training model\n",
    "\n",
    "from keras.callbacks import EarlyStopping\n",
    "\n",
    "es = EarlyStopping(monitor='val_loss', min_delta=0, patience=2, verbose=1, mode='auto')\n",
    "model.fit(x=X_train, y=y_train, batch_size=1000, epochs=30, verbose=1, callbacks=[es])"
   ]
  },
  {
   "cell_type": "code",
   "execution_count": 37,
   "metadata": {},
   "outputs": [
    {
     "name": "stdout",
     "output_type": "stream",
     "text": [
      " 9920/10000 [============================>.] - ETA: 0s"
     ]
    },
    {
     "data": {
      "text/plain": [
       "[0.34598261206778397, 0.96989999999999998]"
      ]
     },
     "execution_count": 37,
     "metadata": {},
     "output_type": "execute_result"
    }
   ],
   "source": [
    "model.evaluate(X_test, y_test_mat, verbose=1)"
   ]
  },
  {
   "cell_type": "code",
   "execution_count": null,
   "metadata": {
    "collapsed": true
   },
   "outputs": [],
   "source": []
  }
 ],
 "metadata": {
  "kernelspec": {
   "display_name": "Python 3",
   "language": "python",
   "name": "python3"
  },
  "language_info": {
   "codemirror_mode": {
    "name": "ipython",
    "version": 3
   },
   "file_extension": ".py",
   "mimetype": "text/x-python",
   "name": "python",
   "nbconvert_exporter": "python",
   "pygments_lexer": "ipython3",
   "version": "3.6.3"
  }
 },
 "nbformat": 4,
 "nbformat_minor": 2
}
