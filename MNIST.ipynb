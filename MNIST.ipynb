{
 "cells": [
  {
   "cell_type": "code",
   "execution_count": 10,
   "metadata": {
    "collapsed": true
   },
   "outputs": [],
   "source": [
    "#import necessary packages\n",
    "\n",
    "import pandas as pd\n",
    "import numpy as np\n",
    "import matplotlib.pyplot as plt\n",
    "%matplotlib inline\n"
   ]
  },
  {
   "cell_type": "code",
   "execution_count": 5,
   "metadata": {},
   "outputs": [
    {
     "name": "stderr",
     "output_type": "stream",
     "text": [
      "Using TensorFlow backend.\n"
     ]
    },
    {
     "name": "stdout",
     "output_type": "stream",
     "text": [
      "Downloading data from https://s3.amazonaws.com/img-datasets/mnist.npz\n",
      "11485184/11490434 [============================>.] - ETA: 0s"
     ]
    }
   ],
   "source": [
    "#load data\n",
    "from keras.datasets import mnist\n",
    "\n",
    "(X_train, y_train), (X_test, y_test) = mnist.load_data()\n"
   ]
  },
  {
   "cell_type": "code",
   "execution_count": 12,
   "metadata": {},
   "outputs": [
    {
     "name": "stdout",
     "output_type": "stream",
     "text": [
      "5\n"
     ]
    },
    {
     "data": {
      "image/png": "[encoded data removed]",
      "text/plain": [
       "<matplotlib.figure.Figure at 0x2a4618aeef0>"
      ]
     },
     "metadata": {},
     "output_type": "display_data"
    }
   ],
   "source": [
    "plt.imshow(X_train[0])\n",
    "print(y_train[0])"
   ]
  },
  {
   "cell_type": "code",
   "execution_count": 13,
   "metadata": {},
   "outputs": [
    {
     "name": "stdout",
     "output_type": "stream",
     "text": [
      "train features: (60000, 28, 28); train labels: (60000,)\n",
      "test features: (10000, 28, 28); test labels: (10000,)\n"
     ]
    }
   ],
   "source": [
    "print(\"train features: {}; train labels: {}\".format(X_train.shape, y_train.shape))\n",
    "print(\"test features: {}; test labels: {}\".format(X_test.shape, y_test.shape))"
   ]
  },
  {
   "cell_type": "code",
   "execution_count": 25,
   "metadata": {
    "collapsed": true
   },
   "outputs": [],
   "source": [
    "#reshape data\n",
    "from keras.utils import to_categorical\n",
    "\n",
    "X_train = X_train.reshape(60000, 28, 28, 1)\n",
    "X_test = X_test.reshape(10000, 28, 28, 1)\n",
    "\n",
    "y_train = to_categorical(y_train, num_classes=10)\n",
    "y_test_mat = to_categorical(y_test, num_classes=10)"
   ]
  },
  {
   "cell_type": "code",
   "execution_count": 38,
   "metadata": {},
   "outputs": [],
   "source": [
    "# create model\n",
    "\n",
    "from keras.layers import Conv2D, MaxPool2D, Dense, Activation, Flatten, Dropout\n",
    "from keras.models import Sequential\n",
    "\n",
    "model = Sequential()\n",
    "model.add(Conv2D(10, kernel_size=3, input_shape=(28, 28, 1)))\n",
    "model.add(MaxPool2D(2))\n",
    "model.add(Flatten())\n",
    "model.add(Dropout(0.2))\n",
    "model.add(Dense(10))\n",
    "model.add(Activation('softmax'))\n",
    "model.compile(optimizer='rmsprop', loss='categorical_crossentropy', metrics=['accuracy'])"
   ]
  },
  {
   "cell_type": "code",
   "execution_count": 41,
   "metadata": {},
   "outputs": [
    {
     "name": "stdout",
     "output_type": "stream",
     "text": [
      "Epoch 1/50\n",
      "60000/60000 [==============================] - 2s - loss: 0.2623 - acc: 0.9721     \n",
      "Epoch 2/50\n",
      "60000/60000 [==============================] - 2s - loss: 0.2578 - acc: 0.9721     \n",
      "Epoch 3/50\n",
      "60000/60000 [==============================] - 2s - loss: 0.2457 - acc: 0.9732     \n",
      "Epoch 4/50\n",
      "60000/60000 [==============================] - 2s - loss: 0.2431 - acc: 0.9734     \n",
      "Epoch 5/50\n",
      "60000/60000 [==============================] - 2s - loss: 0.2432 - acc: 0.9731     \n",
      "Epoch 6/50\n",
      "60000/60000 [==============================] - 2s - loss: 0.2386 - acc: 0.9731     \n",
      "Epoch 7/50\n",
      "60000/60000 [==============================] - 2s - loss: 0.2305 - acc: 0.9741     \n",
      "Epoch 8/50\n",
      "60000/60000 [==============================] - 2s - loss: 0.2355 - acc: 0.9726     \n",
      "Epoch 9/50\n",
      "60000/60000 [==============================] - 2s - loss: 0.2323 - acc: 0.9732     \n",
      "Epoch 10/50\n",
      "60000/60000 [==============================] - 2s - loss: 0.2302 - acc: 0.9729     \n",
      "Epoch 11/50\n",
      "60000/60000 [==============================] - 2s - loss: 0.2232 - acc: 0.9730     \n",
      "Epoch 12/50\n",
      "60000/60000 [==============================] - 2s - loss: 0.2189 - acc: 0.9733     \n",
      "Epoch 13/50\n",
      "60000/60000 [==============================] - 2s - loss: 0.2070 - acc: 0.9741     \n",
      "Epoch 14/50\n",
      "60000/60000 [==============================] - 2s - loss: 0.2091 - acc: 0.9743     \n",
      "Epoch 15/50\n",
      "60000/60000 [==============================] - 2s - loss: 0.2048 - acc: 0.9745     \n",
      "Epoch 16/50\n",
      "60000/60000 [==============================] - 2s - loss: 0.2072 - acc: 0.9734     \n",
      "Epoch 17/50\n",
      "60000/60000 [==============================] - 2s - loss: 0.2025 - acc: 0.9734     \n",
      "Epoch 18/50\n",
      "60000/60000 [==============================] - 2s - loss: 0.1943 - acc: 0.9740     \n",
      "Epoch 19/50\n",
      "60000/60000 [==============================] - 2s - loss: 0.1895 - acc: 0.9743     \n",
      "Epoch 20/50\n",
      "60000/60000 [==============================] - 2s - loss: 0.1891 - acc: 0.9744     \n",
      "Epoch 21/50\n",
      "60000/60000 [==============================] - 2s - loss: 0.1910 - acc: 0.9735     \n",
      "Epoch 22/50\n",
      "60000/60000 [==============================] - 2s - loss: 0.1845 - acc: 0.9741     \n",
      "Epoch 23/50\n",
      "60000/60000 [==============================] - 2s - loss: 0.1790 - acc: 0.9738     \n",
      "Epoch 24/50\n",
      "60000/60000 [==============================] - 2s - loss: 0.1814 - acc: 0.9735     \n",
      "Epoch 25/50\n",
      "60000/60000 [==============================] - 2s - loss: 0.1766 - acc: 0.9739     \n",
      "Epoch 26/50\n",
      "60000/60000 [==============================] - 2s - loss: 0.1682 - acc: 0.9742     \n",
      "Epoch 27/50\n",
      "60000/60000 [==============================] - 2s - loss: 0.1674 - acc: 0.9740     \n",
      "Epoch 28/50\n",
      "60000/60000 [==============================] - 2s - loss: 0.1681 - acc: 0.9741     \n",
      "Epoch 29/50\n",
      "60000/60000 [==============================] - 2s - loss: 0.1707 - acc: 0.9727     \n",
      "Epoch 30/50\n",
      "60000/60000 [==============================] - 2s - loss: 0.1621 - acc: 0.9737     \n",
      "Epoch 31/50\n",
      "60000/60000 [==============================] - 2s - loss: 0.1623 - acc: 0.9740     \n",
      "Epoch 32/50\n",
      "60000/60000 [==============================] - 2s - loss: 0.1630 - acc: 0.9735     \n",
      "Epoch 33/50\n",
      "60000/60000 [==============================] - 2s - loss: 0.1531 - acc: 0.9736     \n",
      "Epoch 34/50\n",
      "60000/60000 [==============================] - 2s - loss: 0.1511 - acc: 0.9739     \n",
      "Epoch 35/50\n",
      "60000/60000 [==============================] - 2s - loss: 0.1528 - acc: 0.9728     \n",
      "Epoch 36/50\n",
      "60000/60000 [==============================] - 2s - loss: 0.1500 - acc: 0.9723     \n",
      "Epoch 37/50\n",
      "60000/60000 [==============================] - 2s - loss: 0.1422 - acc: 0.9737     \n",
      "Epoch 38/50\n",
      "60000/60000 [==============================] - 2s - loss: 0.1403 - acc: 0.9739     \n",
      "Epoch 39/50\n",
      "60000/60000 [==============================] - 2s - loss: 0.1450 - acc: 0.9728     \n",
      "Epoch 40/50\n",
      "60000/60000 [==============================] - 2s - loss: 0.1466 - acc: 0.9729     \n",
      "Epoch 41/50\n",
      "60000/60000 [==============================] - 2s - loss: 0.1408 - acc: 0.9726     \n",
      "Epoch 00040: early stopping\n"
     ]
    },
    {
     "data": {
      "text/plain": [
       "<keras.callbacks.History at 0x2a465844a90>"
      ]
     },
     "execution_count": 41,
     "metadata": {},
     "output_type": "execute_result"
    }
   ],
   "source": [
    "#training model\n",
    "\n",
    "from keras.callbacks import EarlyStopping\n",
    "\n",
    "es = EarlyStopping(monitor='loss', min_delta=0, patience=2, verbose=1, mode='auto')\n",
    "model.fit(x=X_train, y=y_train, batch_size=1000, epochs=50, verbose=1, callbacks=[es])"
   ]
  },
  {
   "cell_type": "code",
   "execution_count": 42,
   "metadata": {},
   "outputs": [
    {
     "name": "stdout",
     "output_type": "stream",
     "text": [
      " 9440/10000 [===========================>..] - ETA: 0s"
     ]
    },
    {
     "data": {
      "text/plain": [
       "[0.19895271013987562, 0.96960000000000002]"
      ]
     },
     "execution_count": 42,
     "metadata": {},
     "output_type": "execute_result"
    }
   ],
   "source": [
    "model.evaluate(X_test, y_test_mat, verbose=1)"
   ]
  },
  {
   "cell_type": "code",
   "execution_count": null,
   "metadata": {},
   "outputs": [],
   "source": []
  },
  {
   "cell_type": "code",
   "execution_count": null,
   "metadata": {
    "collapsed": true
   },
   "outputs": [],
   "source": []
  }
 ],
 "metadata": {
  "kernelspec": {
   "display_name": "Python 3",
   "language": "python",
   "name": "python3"
  },
  "language_info": {
   "codemirror_mode": {
    "name": "ipython",
    "version": 3
   },
   "file_extension": ".py",
   "mimetype": "text/x-python",
   "name": "python",
   "nbconvert_exporter": "python",
   "pygments_lexer": "ipython3",
   "version": "3.6.3"
  }
 },
 "nbformat": 4,
 "nbformat_minor": 2
}
